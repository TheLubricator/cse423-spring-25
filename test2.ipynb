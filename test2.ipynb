{
 "cells": [
  {
   "cell_type": "code",
   "execution_count": null,
   "metadata": {},
   "outputs": [
    {
     "name": "stdout",
     "output_type": "stream",
     "text": [
      "0.18354796583894606\n"
     ]
    }
   ],
   "source": [
    "import random\n",
    "import tensorflow as tf\n",
    "print(random.random())"
   ]
  },
  {
   "cell_type": "code",
   "execution_count": null,
   "metadata": {},
   "outputs": [
    {
     "name": "stdout",
     "output_type": "stream",
     "text": [
      "32\n",
      "55\n"
     ]
    }
   ],
   "source": [
    "def fire_bullet():\n",
    "    global bullet_pos, bullet_direction, player_pos, player_rotation\n",
    "\n",
    "    # Initialize the bullet's position at the player's current position\n",
    "    bullet_pos = [player_pos[0], player_pos[1], 75]  # Start at player's position (z = 75)\n",
    "\n",
    "    # Calculate the bullet's direction based on the player's rotation\n",
    "    radians = math.radians(player_rotation)\n",
    "    bullet_direction = [math.sin(-radians), math.cos(-radians)]  # Direction vector (x, y)"
   ]
  },
  {
   "cell_type": "code",
   "execution_count": 13,
   "metadata": {},
   "outputs": [
    {
     "data": {
      "text/plain": [
       "-21.24939952131768"
      ]
     },
     "execution_count": 13,
     "metadata": {},
     "output_type": "execute_result"
    }
   ],
   "source": [
    "import math\n",
    "math.degrees(math.atan2(-58.33, 150)) "
   ]
  },
  {
   "cell_type": "code",
   "execution_count": 4,
   "metadata": {},
   "outputs": [
    {
     "data": {
      "image/png": "[encoded data removed]",
      "text/plain": [
       "<Figure size 640x480 with 1 Axes>"
      ]
     },
     "metadata": {},
     "output_type": "display_data"
    }
   ],
   "source": [
    "import math\n",
    "import matplotlib.pyplot as plt\n",
    "import numpy as np\n",
    "\n",
    "# Define the points (delta_x and delta_y)\n",
    "delta_x = 175\n",
    "delta_y = 58.33\n",
    "\n",
    "# Calculate the angle using math.atan2 and normalize to degrees\n",
    "angle = math.degrees(math.atan2(delta_y, delta_x)) % 360\n",
    "\n",
    "# Create the plot\n",
    "fig, ax = plt.subplots()\n",
    "\n",
    "# Set up the plot limits\n",
    "ax.set_xlim(-200, 200)\n",
    "ax.set_ylim(-200, 200)\n",
    "ax.set_aspect('equal')\n",
    "\n",
    "# Plot the origin point (0,0)\n",
    "ax.plot(0, 0, 'go', label='Origin')\n",
    "\n",
    "# Plot the target point (delta_x, delta_y)\n",
    "ax.plot(delta_x, delta_y, 'ro', label='Target')\n",
    "\n",
    "# Plot the vector (arrow) from origin to the target\n",
    "ax.quiver(0, 0, delta_x, delta_y, angles='xy', scale_units='xy', scale=1, color='b')\n",
    "\n",
    "# Add title and labels\n",
    "ax.set_title(f\"Angle: {angle:.2f} degrees\")\n",
    "ax.set_xlabel('X')\n",
    "ax.set_ylabel('Y')\n",
    "\n",
    "# Add grid and legend\n",
    "ax.grid(True)\n",
    "ax.legend()\n",
    "\n",
    "# Show the plot\n",
    "plt.show()\n"
   ]
  },
  {
   "cell_type": "code",
   "execution_count": 7,
   "metadata": {},
   "outputs": [
    {
     "name": "stdout",
     "output_type": "stream",
     "text": [
      "[45.  44.5 44.  43.5 43.  42.5 42.  41.5 41.  40.5 40.  39.5 39.  38.5\n",
      " 38.  37.5 37.  36.5 36.  35.5 35.  34.5 34.  33.5 33.  32.5 32.  31.5\n",
      " 31.  30.5 30.  29.5 29.  28.5 28. ]\n",
      "abc\n",
      "def\n",
      "ghi\n"
     ]
    }
   ],
   "source": [
    "import numpy as np\n",
    "print(np.arange(45, 27.5, -0.5))\n",
    "\n",
    "a={'abc':1, 'def':2, 'ghi':3} \n",
    "for i in a.keys():\n",
    "    print(i)"
   ]
  },
  {
   "cell_type": "code",
   "execution_count": null,
   "metadata": {},
   "outputs": [
    {
     "name": "stdout",
     "output_type": "stream",
     "text": [
      "10.000360250473022\n"
     ]
    },
    {
     "ename": "",
     "evalue": "",
     "output_type": "error",
     "traceback": [
      "\u001b[1;31mThe Kernel crashed while executing code in the current cell or a previous cell. \n",
      "\u001b[1;31mPlease review the code in the cell(s) to identify a possible cause of the failure. \n",
      "\u001b[1;31mClick <a href='https://aka.ms/vscodeJupyterKernelCrash'>here</a> for more info. \n",
      "\u001b[1;31mView Jupyter <a href='command:jupyter.viewOutput'>log</a> for further details."
     ]
    }
   ],
   "source": [
    "    def move(self, direction, distance):\n",
    "        radians = math.radians(self.rotation)\n",
    "        if direction == \"forward\":\n",
    "            self.position[0] += distance * math.sin(-radians)\n",
    "            self.position[1] += distance * math.cos(-radians)\n",
    "        elif direction == \"backward\":\n",
    "            self.position[0] -= distance * math.sin(-radians)\n",
    "            self.position[1] -= distance * math.cos(-radians)\n",
    "        self.position[0] = max(-279, min(279, self.position[0]))\n",
    "        self.position[1] = max(-279, min(279, self.position[1]))"
   ]
  },
  {
   "cell_type": "code",
   "execution_count": 28,
   "metadata": {},
   "outputs": [],
   "source": [
    "def MPLA_main(x_start,y_start,x_end,y_end):\n",
    "    def zone_finder(dx,dy):\n",
    "        if dx>0 and dy>0:\n",
    "            if abs(dx)>abs(dy):\n",
    "                return 0\n",
    "            else:\n",
    "                return 1\n",
    "        elif dx<0 and dy>0:\n",
    "            if abs(dx)>abs(dy):\n",
    "                return 3\n",
    "            else:\n",
    "                return 2\n",
    "        elif dx<0 and dy<0:\n",
    "            if abs(dx)>abs(dy):\n",
    "                return 4\n",
    "            else:\n",
    "                return 5\n",
    "        elif dx>0 and dy<0:\n",
    "            if abs(dx)>abs(dy):\n",
    "                return 7\n",
    "            else:\n",
    "                return 6\n",
    "        if dx==0:\n",
    "            return 'vertical'\n",
    "        elif dy==0:\n",
    "            return 'horizontal'\n",
    "    def Convert2Zero(x,y,zone):\n",
    "        if zone==0:\n",
    "            return x,y\n",
    "        elif zone==1:\n",
    "            return y,x\n",
    "        elif zone==2:\n",
    "            return y,-x\n",
    "        elif zone==3:\n",
    "            return -x,y\n",
    "        elif zone==4:\n",
    "            return -x,-y\n",
    "        elif zone==5:\n",
    "            return -y,-x\n",
    "        elif zone==6:\n",
    "            return -y,x\n",
    "        elif zone==7:\n",
    "            return x,-y\n",
    "    \n",
    "    def Convert2Original(x,y,zone):\n",
    "        if zone==0:\n",
    "            return x,y\n",
    "        elif zone==1:\n",
    "            return y,x\n",
    "        elif zone==2:\n",
    "            return -y,x\n",
    "        elif zone==3:\n",
    "           return -x,y \n",
    "        elif zone==4:\n",
    "            return -x,-y \n",
    "        elif zone==5:\n",
    "            return -y,-x\n",
    "        elif zone==6:\n",
    "            return y,-x\n",
    "        elif zone==7:\n",
    "            return x,-y\n",
    "    points=[]\n",
    "    dx_init=x_end-x_start\n",
    "    dy_init=y_end-y_start\n",
    "    zone=zone_finder(dx_init,dy_init)\n",
    "    print(zone)\n",
    "    if zone!='vertical' and zone!='horizontal':\n",
    "        x_end_orignal=x_end\n",
    "        y_end_original=y_end\n",
    "        x_start,y_start=Convert2Zero(x_start,y_start,zone)\n",
    "        x_end,y_end=Convert2Zero(x_end,y_end,zone)\n",
    "        dx_new=x_end-x_start\n",
    "        dy_new=y_end-y_start\n",
    "        d_init=2*dy_new-dx_new\n",
    "        x_new,y_new=Convert2Original(x_start,y_start,zone)\n",
    "        points.append([x_new,y_new])\n",
    "        while points[len(points)-1][0]!=x_end_orignal or points[len(points)-1][1]!=y_end_original:\n",
    "            if d_init<0:\n",
    "                x_start+=1\n",
    "                d_init=d_init+2*dy_new\n",
    "            else:\n",
    "                x_start+=1\n",
    "                y_start+=1\n",
    "                d_init=d_init+2*dy_new-2*dx_new\n",
    "            x_new,y_new=Convert2Original(x_start,y_start,zone)\n",
    "            points.append([x_new,y_new])\n",
    "    elif zone=='vertical':\n",
    "        points.append([x_start,y_start])\n",
    "        while points[len(points)-1][1]!=y_end:\n",
    "                if y_start>y_end:\n",
    "                    y_start-=1\n",
    "                elif y_start<y_end:\n",
    "                    y_start+=1\n",
    "                points.append([x_start,y_start])\n",
    "    elif zone=='horizontal':\n",
    "        points.append([x_start,y_start])\n",
    "        while points[len(points)-1][0]!=x_end:\n",
    "                if x_start>x_end:\n",
    "                    x_start-=1\n",
    "                elif x_start<x_end:\n",
    "                    x_start+=1\n",
    "                points.append([x_start,y_start])\n",
    "\n",
    "\n",
    "    return points"
   ]
  },
  {
   "cell_type": "code",
   "execution_count": 29,
   "metadata": {},
   "outputs": [
    {
     "name": "stdout",
     "output_type": "stream",
     "text": [
      "vertical\n",
      "vertical\n"
     ]
    }
   ],
   "source": [
    "line1 = MPLA_main(-10, 395, -10, 355) \n",
    "line2 = MPLA_main(10, 395, 10, 355)  "
   ]
  },
  {
   "cell_type": "code",
   "execution_count": 107,
   "metadata": {},
   "outputs": [
    {
     "name": "stdout",
     "output_type": "stream",
     "text": [
      "is_prime(13) takes 0.0 seconds to execute!\n"
     ]
    }
   ],
   "source": [
    "from time import time\n",
    "\n",
    "# define is_prime(x)\n",
    "def is_prime(x):\n",
    "    for i in range(2, x):\n",
    "        if (x % i) == 0:\n",
    " \n",
    "            return\n",
    "\n",
    "\n",
    "# measure delta time\n",
    "t0 = time()  # start of measurement\n",
    "is_prime(13)  # call function\n",
    "t1 = time()  # end of measurement\n",
    "deltaTime = t1 - t0\n",
    "print(\"is_prime(13) takes\", deltaTime, \"seconds to execute!\")"
   ]
  },
  {
   "cell_type": "code",
   "execution_count": 2,
   "metadata": {},
   "outputs": [
    {
     "data": {
      "text/plain": [
       "True"
      ]
     },
     "execution_count": 2,
     "metadata": {},
     "output_type": "execute_result"
    }
   ],
   "source": [
    "round(142) in range (45,145) or 92 in range (-20,80)\n"
   ]
  },
  {
   "cell_type": "code",
   "execution_count": 2,
   "metadata": {},
   "outputs": [
    {
     "ename": "TypeError",
     "evalue": "sequence item 0: expected str instance, int found",
     "output_type": "error",
     "traceback": [
      "\u001b[1;31m---------------------------------------------------------------------------\u001b[0m",
      "\u001b[1;31mTypeError\u001b[0m                                 Traceback (most recent call last)",
      "Cell \u001b[1;32mIn[2], line 2\u001b[0m\n\u001b[0;32m      1\u001b[0m a\u001b[38;5;241m=\u001b[39m[\u001b[38;5;241m1\u001b[39m,\u001b[38;5;241m2\u001b[39m,\u001b[38;5;241m3\u001b[39m,\u001b[38;5;241m4\u001b[39m]\n\u001b[1;32m----> 2\u001b[0m \u001b[38;5;28mprint\u001b[39m(\u001b[38;5;124m\"\u001b[39m\u001b[38;5;124m\"\u001b[39m\u001b[38;5;241m.\u001b[39mjoin(a))\n",
      "\u001b[1;31mTypeError\u001b[0m: sequence item 0: expected str instance, int found"
     ]
    }
   ],
   "source": [
    "a=[1,2,3,4]\n",
    "print(\"\".join(a))"
   ]
  },
  {
   "cell_type": "code",
   "execution_count": 25,
   "metadata": {},
   "outputs": [
    {
     "name": "stdout",
     "output_type": "stream",
     "text": [
      "7\n",
      "<class '__main__.ListNode'>\n",
      "7\n",
      "0\n"
     ]
    }
   ],
   "source": [
    "# Definition for singly-linked list.\n",
    "class ListNode:\n",
    "    def __init__(self, val=0, next=None):\n",
    "        self.val = val\n",
    "        self.next = next\n",
    "a=\"807\"\n",
    "i=1\n",
    "arr=ListNode(int(a[0]))\n",
    "\n",
    "while i<len(a):\n",
    "   temp=ListNode()\n",
    "   temp.val=int(a[i])\n",
    "   temp.next=arr\n",
    "   arr=temp\n",
    "   i+=1\n",
    "print(arr.val)\n",
    "print(type(arr))\n",
    "array=[]\n",
    "while arr.next!=None:\n",
    "    print(arr.val)\n",
    "    arr=arr.next\n",
    "\n",
    "\n"
   ]
  },
  {
   "cell_type": "code",
   "execution_count": null,
   "metadata": {},
   "outputs": [
    {
     "name": "stdout",
     "output_type": "stream",
     "text": [
      "Score: 1, 0.107\n",
      "Score: 2, 0.124\n",
      "Score: 3, 0.14100000000000001\n",
      "Score: 4, 0.15800000000000003\n",
      "Score: 5, 0.17500000000000004\n",
      "Score: 6, 0.19200000000000006\n",
      "Score: 7, 0.20900000000000007\n",
      "Score: 8, 0.20900000000000007\n",
      "Score: 9, 0.20900000000000007\n",
      "Game Over! Score 9\n",
      "Resetting game\n",
      "Score: 1, 0.107\n",
      "Score: 2, 0.124\n",
      "Score: 3, 0.14100000000000001\n",
      "Game Over! Score 3\n",
      "Resetting game\n",
      "Game Over! Score 0\n",
      "Resetting game\n",
      "Game Over! Score 0\n",
      "Resetting game\n",
      "Score: 1, 0.107\n",
      "Score: 2, 0.124\n",
      "Score: 3, 0.14100000000000001\n",
      "Score: 4, 0.15800000000000003\n",
      "Game Over! Score 4\n"
     ]
    },
    {
     "ename": "",
     "evalue": "",
     "output_type": "error",
     "traceback": [
      "\u001b[1;31mThe Kernel crashed while executing code in the current cell or a previous cell. \n",
      "\u001b[1;31mPlease review the code in the cell(s) to identify a possible cause of the failure. \n",
      "\u001b[1;31mClick <a href='https://aka.ms/vscodeJupyterKernelCrash'>here</a> for more info. \n",
      "\u001b[1;31mView Jupyter <a href='command:jupyter.viewOutput'>log</a> for further details."
     ]
    }
   ],
   "source": []
  },
  {
   "cell_type": "code",
   "execution_count": 2,
   "metadata": {},
   "outputs": [
    {
     "data": {
      "text/plain": [
       "1"
      ]
     },
     "execution_count": 2,
     "metadata": {},
     "output_type": "execute_result"
    }
   ],
   "source": [
    "import random\n",
    "random.randint(0,2)"
   ]
  },
  {
   "cell_type": "code",
   "execution_count": 129,
   "metadata": {},
   "outputs": [
    {
     "name": "stdout",
     "output_type": "stream",
     "text": [
      "charge\n"
     ]
    }
   ],
   "source": [
    "def skill_chance_above_700():\n",
    "        # Skills available when HP > 700\n",
    "        skill_weights = {\n",
    "            \"regular_attack\": 20,  # more likely to use\n",
    "            \"fire_of_sinai\": 20,\n",
    "            \"deathbound\": 25,\n",
    "            \"omnipotence\": 15,\n",
    "            \"luster_candy\":13,\n",
    "            \"debilitate\": 13,\n",
    "            \"charge\": 2  # very rarely used\n",
    "        }\n",
    "        return random.choices(list(skill_weights.keys()), list(skill_weights.values()))[0]\n",
    "print(skill_chance_above_700())"
   ]
  },
  {
   "cell_type": "code",
   "execution_count": 72,
   "metadata": {},
   "outputs": [
    {
     "name": "stdout",
     "output_type": "stream",
     "text": [
      "fire_of_sinai\n"
     ]
    }
   ],
   "source": [
    "def skill_chance_below_700():\n",
    "        # Skills available when HP < 700\n",
    "        skill_weights = {\n",
    "            \"omnipotence\": 35,  # prioritized skills after critical state\n",
    "            \"regular_attack\": 5,\n",
    "            \"fire_of_sinai\": 25,\n",
    "            \"holy_wrath\": 10,  # 100% first time after critical state\n",
    "            \"shield_of_god\": 8,\n",
    "            \"waves_of_order\": 5,\n",
    "            \"charge\": 15  # more likely to use charge below 700\n",
    "        }\n",
    "        # if self.first_critical_state:\n",
    "        #     self.first_critical_state = False\n",
    "        #     return \"holy_wrath\"\n",
    "        return random.choices(list(skill_weights.keys()), list(skill_weights.values()))[0]\n",
    "print(skill_chance_below_700())"
   ]
  }
 ],
 "metadata": {
  "kernelspec": {
   "display_name": "base",
   "language": "python",
   "name": "python3"
  },
  "language_info": {
   "codemirror_mode": {
    "name": "ipython",
    "version": 3
   },
   "file_extension": ".py",
   "mimetype": "text/x-python",
   "name": "python",
   "nbconvert_exporter": "python",
   "pygments_lexer": "ipython3",
   "version": "3.12.7"
  }
 },
 "nbformat": 4,
 "nbformat_minor": 2
}
